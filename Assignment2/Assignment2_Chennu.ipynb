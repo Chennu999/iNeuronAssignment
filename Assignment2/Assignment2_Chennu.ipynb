{
 "cells": [
  {
   "cell_type": "markdown",
   "metadata": {},
   "source": [
    "## Task 1"
   ]
  },
  {
   "cell_type": "code",
   "execution_count": null,
   "metadata": {},
   "outputs": [],
   "source": [
    "#1.1\n",
    "def myreduce(fun,seq):\n",
    "    a=seq[0]\n",
    "    for i in seq[1:]:\n",
    "        a=fun(a,i)\n",
    "    return a\n",
    "list1=[1,2,3,4,5]\n",
    "l=lambda a,b: a+b\n",
    "myreduce(l,list1)"
   ]
  },
  {
   "cell_type": "code",
   "execution_count": null,
   "metadata": {},
   "outputs": [],
   "source": [
    "#1.2\n",
    "def myfilter(fun,seq):\n",
    "    return [a for a in seq if fun(a)==True]\n",
    "def evn(num):\n",
    "    if num%2==0:\n",
    "        return True\n",
    "list2=[1,2,3,4,5,6,7,8]\n",
    "list(myfilter(evn,list3))"
   ]
  },
  {
   "cell_type": "code",
   "execution_count": null,
   "metadata": {},
   "outputs": [],
   "source": [
    "#2\n",
    "[i for i in \"ACADGILD\" ]"
   ]
  },
  {
   "cell_type": "code",
   "execution_count": null,
   "metadata": {},
   "outputs": [],
   "source": [
    "a=[\"x\",\"y\",\"z\"]\n",
    "[i*j for i in a for j in range(1,5)]"
   ]
  },
  {
   "cell_type": "code",
   "execution_count": null,
   "metadata": {},
   "outputs": [],
   "source": [
    "[i*j for i in range(1,5) for j in a]"
   ]
  },
  {
   "cell_type": "code",
   "execution_count": null,
   "metadata": {},
   "outputs": [],
   "source": [
    "listn=[2,3,4]\n",
    "[[i+j] for i in listn for j in range(0,3)]"
   ]
  },
  {
   "cell_type": "code",
   "execution_count": null,
   "metadata": {},
   "outputs": [],
   "source": [
    "listn2=[1,2,3]\n",
    "[(j,i) for i in listn2 for j in listn2]"
   ]
  },
  {
   "cell_type": "code",
   "execution_count": null,
   "metadata": {},
   "outputs": [],
   "source": [
    "#3\n",
    "n1=[\"apple\",\"banana\",\"chocolate\",\"donut\",\"egg\"]\n",
    "def longestWord(seq):\n",
    "    largestWord=\"\"\n",
    "    largestLen=0\n",
    "    for word in seq:\n",
    "        if largestLen<len(word):\n",
    "            largestLen=len(word)\n",
    "            largestWord=word\n",
    "    print(\"The longest word in the list is %s\" % largestWord)\n",
    "longestWord(n1)"
   ]
  },
  {
   "cell_type": "markdown",
   "metadata": {},
   "source": [
    "## Task 2"
   ]
  },
  {
   "cell_type": "code",
   "execution_count": null,
   "metadata": {},
   "outputs": [],
   "source": [
    "#1.1\n",
    "class Triangle:\n",
    "    def __init__(self):\n",
    "        self.a=None\n",
    "        self.b=None\n",
    "        self.c=None\n",
    "    def sides(self):\n",
    "        self.a=int(input(\"Enter side a : \"))\n",
    "        self.b=int(input(\"Enter side b : \"))\n",
    "        self.c=int(input(\"Enter side c : \"))\n",
    "        print(\"Side a is \",self.a)\n",
    "        print(\"Side b is \",self.b)\n",
    "        print(\"Side c is \",self.c)\n",
    "class Find_area(Triangle):\n",
    "    def __init__(self):\n",
    "        self.s=None\n",
    "        self.area=None\n",
    "    def tarea(self):\n",
    "        self.s=(self.a+self.b+self.c)/2\n",
    "        self.area=((self.s*(self.s-self.a)*(self.s-self.b)*(self.s-self.c))**0.5)\n",
    "        print(\"Perimeter of triangle is \",self.s)\n",
    "        print(\"Area of triangle is \",self.area)\n",
    "def main():\n",
    "    t1=Find_area()\n",
    "    t1.sides()\n",
    "    t1.tarea()\n",
    "main()"
   ]
  },
  {
   "cell_type": "code",
   "execution_count": null,
   "metadata": {},
   "outputs": [],
   "source": [
    "#1.2\n",
    "def filter_long_words(n):\n",
    "    w=[]\n",
    "    for i in range(n):\n",
    "        string=input(\"Enter a word \")\n",
    "        w.append(string)\n",
    "    print(\"list is \",w)\n",
    "    l=[]\n",
    "    for i in w:\n",
    "        if len(i)>n:\n",
    "            l.append(i)\n",
    "    print(\"Longer words that are longer than n  \",l)\n",
    "def main():\n",
    "    n=int(input(\"Enter length of list\"))\n",
    "    filter_long_words(n)\n",
    "main()"
   ]
  },
  {
   "cell_type": "code",
   "execution_count": null,
   "metadata": {},
   "outputs": [],
   "source": [
    "#2.1\n",
    "def length(n):\n",
    "    string=[ input(\"Enter  a word \") for i in range(n)]\n",
    "    print(string)\n",
    "    l=[]\n",
    "    for i in string:\n",
    "        l.append(len(i))\n",
    "    print(l)\n",
    "def main():\n",
    "    n=int(input(\"length \"))\n",
    "    length(n)\n",
    "main()"
   ]
  },
  {
   "cell_type": "code",
   "execution_count": null,
   "metadata": {},
   "outputs": [],
   "source": [
    "#2.2\n",
    "def vowel(s):\n",
    "    char=\"aeiouAEIOU\"\n",
    "    if s  in char:\n",
    "        print(True)\n",
    "    else:\n",
    "        print(False)\n",
    "def main():\n",
    "    s=input(\"Entered character is a Vowel \")\n",
    "    vowel(s)\n",
    "main()"
   ]
  },
  {
   "cell_type": "code",
   "execution_count": null,
   "metadata": {},
   "outputs": [],
   "source": []
  }
 ],
 "metadata": {
  "kernelspec": {
   "display_name": "Python 3",
   "language": "python",
   "name": "python3"
  },
  "language_info": {
   "codemirror_mode": {
    "name": "ipython",
    "version": 3
   },
   "file_extension": ".py",
   "mimetype": "text/x-python",
   "name": "python",
   "nbconvert_exporter": "python",
   "pygments_lexer": "ipython3",
   "version": "3.7.3"
  }
 },
 "nbformat": 4,
 "nbformat_minor": 2
}
